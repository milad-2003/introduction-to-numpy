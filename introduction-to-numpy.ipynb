{
 "cells": [
  {
   "cell_type": "markdown",
   "id": "6e58b1db",
   "metadata": {},
   "source": [
    "# Introduction to numpy"
   ]
  },
  {
   "cell_type": "code",
   "execution_count": 1,
   "id": "d52d39d0",
   "metadata": {},
   "outputs": [],
   "source": [
    "import numpy as np"
   ]
  },
  {
   "cell_type": "markdown",
   "id": "f9c3c1ed",
   "metadata": {},
   "source": [
    "## Datatypes & Attributes"
   ]
  },
  {
   "cell_type": "markdown",
   "id": "eec3801a",
   "metadata": {},
   "source": [
    "Numpy's main datatype is ndarray:"
   ]
  },
  {
   "cell_type": "code",
   "execution_count": 2,
   "id": "bbf16dcb",
   "metadata": {},
   "outputs": [
    {
     "data": {
      "text/plain": [
       "array([1, 2, 3])"
      ]
     },
     "execution_count": 2,
     "metadata": {},
     "output_type": "execute_result"
    }
   ],
   "source": [
    "a1 = np.array([1, 2, 3])\n",
    "a1"
   ]
  },
  {
   "cell_type": "code",
   "execution_count": 3,
   "id": "9362d7e6",
   "metadata": {},
   "outputs": [
    {
     "data": {
      "text/plain": [
       "numpy.ndarray"
      ]
     },
     "execution_count": 3,
     "metadata": {},
     "output_type": "execute_result"
    }
   ],
   "source": [
    "type(a1)"
   ]
  },
  {
   "cell_type": "code",
   "execution_count": 4,
   "id": "2cfd22b4",
   "metadata": {},
   "outputs": [],
   "source": [
    "a2 = np.array([[1, 2.0, 3.3],\n",
    "              [4, 5, 6.5]])\n",
    "\n",
    "a3 = np.array([[[1, 2, 3],\n",
    "               [4, 5, 6],\n",
    "               [7, 8, 9]],\n",
    "              [[10, 11, 12],\n",
    "              [13, 14, 15],\n",
    "              [16, 17, 18]]])"
   ]
  },
  {
   "cell_type": "code",
   "execution_count": 5,
   "id": "37a6a60c",
   "metadata": {},
   "outputs": [
    {
     "data": {
      "text/plain": [
       "array([[1. , 2. , 3.3],\n",
       "       [4. , 5. , 6.5]])"
      ]
     },
     "execution_count": 5,
     "metadata": {},
     "output_type": "execute_result"
    }
   ],
   "source": [
    "a2"
   ]
  },
  {
   "cell_type": "code",
   "execution_count": 6,
   "id": "af20af39",
   "metadata": {},
   "outputs": [
    {
     "data": {
      "text/plain": [
       "array([[[ 1,  2,  3],\n",
       "        [ 4,  5,  6],\n",
       "        [ 7,  8,  9]],\n",
       "\n",
       "       [[10, 11, 12],\n",
       "        [13, 14, 15],\n",
       "        [16, 17, 18]]])"
      ]
     },
     "execution_count": 6,
     "metadata": {},
     "output_type": "execute_result"
    }
   ],
   "source": [
    "a3"
   ]
  },
  {
   "cell_type": "markdown",
   "id": "cc255996",
   "metadata": {},
   "source": [
    "### .shape"
   ]
  },
  {
   "cell_type": "code",
   "execution_count": 7,
   "id": "b8d25450",
   "metadata": {},
   "outputs": [
    {
     "data": {
      "text/plain": [
       "(3,)"
      ]
     },
     "execution_count": 7,
     "metadata": {},
     "output_type": "execute_result"
    }
   ],
   "source": [
    "a1.shape"
   ]
  },
  {
   "cell_type": "code",
   "execution_count": 8,
   "id": "372a6a7a",
   "metadata": {},
   "outputs": [
    {
     "data": {
      "text/plain": [
       "(2, 3)"
      ]
     },
     "execution_count": 8,
     "metadata": {},
     "output_type": "execute_result"
    }
   ],
   "source": [
    "a2.shape"
   ]
  },
  {
   "cell_type": "code",
   "execution_count": 9,
   "id": "2e45321e",
   "metadata": {},
   "outputs": [
    {
     "data": {
      "text/plain": [
       "(2, 3, 3)"
      ]
     },
     "execution_count": 9,
     "metadata": {},
     "output_type": "execute_result"
    }
   ],
   "source": [
    "a3.shape"
   ]
  },
  {
   "cell_type": "markdown",
   "id": "e8651fff",
   "metadata": {},
   "source": [
    "### .ndim"
   ]
  },
  {
   "cell_type": "code",
   "execution_count": 10,
   "id": "ed0581ea",
   "metadata": {},
   "outputs": [
    {
     "data": {
      "text/plain": [
       "(1, 2, 3)"
      ]
     },
     "execution_count": 10,
     "metadata": {},
     "output_type": "execute_result"
    }
   ],
   "source": [
    "a1.ndim, a2.ndim, a3.ndim"
   ]
  },
  {
   "cell_type": "markdown",
   "id": "f712af21",
   "metadata": {},
   "source": [
    "### .dtype"
   ]
  },
  {
   "cell_type": "code",
   "execution_count": 11,
   "id": "1b926158",
   "metadata": {},
   "outputs": [
    {
     "data": {
      "text/plain": [
       "(dtype('int32'), dtype('float64'), dtype('int32'))"
      ]
     },
     "execution_count": 11,
     "metadata": {},
     "output_type": "execute_result"
    }
   ],
   "source": [
    "a1.dtype, a2.dtype, a3.dtype"
   ]
  },
  {
   "cell_type": "markdown",
   "id": "3a16ac9e",
   "metadata": {},
   "source": [
    "### .size"
   ]
  },
  {
   "cell_type": "code",
   "execution_count": 12,
   "id": "9a2ebc0a",
   "metadata": {},
   "outputs": [
    {
     "data": {
      "text/plain": [
       "(3, 6, 18)"
      ]
     },
     "execution_count": 12,
     "metadata": {},
     "output_type": "execute_result"
    }
   ],
   "source": [
    "a1.size, a2.size, a3.size"
   ]
  },
  {
   "cell_type": "markdown",
   "id": "7c9d7b71",
   "metadata": {},
   "source": [
    "### type()"
   ]
  },
  {
   "cell_type": "code",
   "execution_count": 13,
   "id": "4ff8dda6",
   "metadata": {},
   "outputs": [
    {
     "data": {
      "text/plain": [
       "(numpy.ndarray, numpy.ndarray, numpy.ndarray)"
      ]
     },
     "execution_count": 13,
     "metadata": {},
     "output_type": "execute_result"
    }
   ],
   "source": [
    "type(a1), type(a2), type(a3)"
   ]
  },
  {
   "cell_type": "code",
   "execution_count": 14,
   "id": "6224d849",
   "metadata": {},
   "outputs": [
    {
     "data": {
      "text/html": [
       "<div>\n",
       "<style scoped>\n",
       "    .dataframe tbody tr th:only-of-type {\n",
       "        vertical-align: middle;\n",
       "    }\n",
       "\n",
       "    .dataframe tbody tr th {\n",
       "        vertical-align: top;\n",
       "    }\n",
       "\n",
       "    .dataframe thead th {\n",
       "        text-align: right;\n",
       "    }\n",
       "</style>\n",
       "<table border=\"1\" class=\"dataframe\">\n",
       "  <thead>\n",
       "    <tr style=\"text-align: right;\">\n",
       "      <th></th>\n",
       "      <th>0</th>\n",
       "      <th>1</th>\n",
       "      <th>2</th>\n",
       "    </tr>\n",
       "  </thead>\n",
       "  <tbody>\n",
       "    <tr>\n",
       "      <th>0</th>\n",
       "      <td>1.0</td>\n",
       "      <td>2.0</td>\n",
       "      <td>3.3</td>\n",
       "    </tr>\n",
       "    <tr>\n",
       "      <th>1</th>\n",
       "      <td>4.0</td>\n",
       "      <td>5.0</td>\n",
       "      <td>6.5</td>\n",
       "    </tr>\n",
       "  </tbody>\n",
       "</table>\n",
       "</div>"
      ],
      "text/plain": [
       "     0    1    2\n",
       "0  1.0  2.0  3.3\n",
       "1  4.0  5.0  6.5"
      ]
     },
     "execution_count": 14,
     "metadata": {},
     "output_type": "execute_result"
    }
   ],
   "source": [
    "# Creating a dataframe in pandas from a numpy array\n",
    "import pandas as pd\n",
    "\n",
    "df = pd.DataFrame(a2)\n",
    "df"
   ]
  },
  {
   "cell_type": "markdown",
   "id": "8ecc0629",
   "metadata": {},
   "source": [
    "## Creating arrays with functions"
   ]
  },
  {
   "cell_type": "markdown",
   "id": "64ac4cf0",
   "metadata": {},
   "source": [
    "### .ones()"
   ]
  },
  {
   "cell_type": "code",
   "execution_count": 15,
   "id": "8af8b766",
   "metadata": {},
   "outputs": [
    {
     "data": {
      "text/plain": [
       "array([[1., 1., 1.],\n",
       "       [1., 1., 1.]])"
      ]
     },
     "execution_count": 15,
     "metadata": {},
     "output_type": "execute_result"
    }
   ],
   "source": [
    "ones_array = np.ones((2, 3))\n",
    "ones_array"
   ]
  },
  {
   "cell_type": "markdown",
   "id": "206d06ae",
   "metadata": {},
   "source": [
    "The default data type for the ones is float. we can change that as below:"
   ]
  },
  {
   "cell_type": "code",
   "execution_count": 16,
   "id": "ddba2c85",
   "metadata": {},
   "outputs": [
    {
     "data": {
      "text/plain": [
       "array([[1, 1, 1],\n",
       "       [1, 1, 1]])"
      ]
     },
     "execution_count": 16,
     "metadata": {},
     "output_type": "execute_result"
    }
   ],
   "source": [
    "ones_array = np.ones((2, 3), dtype=int)\n",
    "ones_array"
   ]
  },
  {
   "cell_type": "markdown",
   "id": "7f76a068",
   "metadata": {},
   "source": [
    "### .zeros()"
   ]
  },
  {
   "cell_type": "code",
   "execution_count": 17,
   "id": "d980e807",
   "metadata": {},
   "outputs": [
    {
     "data": {
      "text/plain": [
       "array([[0., 0., 0.],\n",
       "       [0., 0., 0.]])"
      ]
     },
     "execution_count": 17,
     "metadata": {},
     "output_type": "execute_result"
    }
   ],
   "source": [
    "zeros_array = np.zeros((2, 3))\n",
    "zeros_array"
   ]
  },
  {
   "cell_type": "markdown",
   "id": "e7fe3a3e",
   "metadata": {},
   "source": [
    "The default data type for the ones is float. we can change that as below:"
   ]
  },
  {
   "cell_type": "code",
   "execution_count": 18,
   "id": "12fcd678",
   "metadata": {},
   "outputs": [
    {
     "data": {
      "text/plain": [
       "array([[0, 0, 0],\n",
       "       [0, 0, 0]])"
      ]
     },
     "execution_count": 18,
     "metadata": {},
     "output_type": "execute_result"
    }
   ],
   "source": [
    "zeros_array = np.zeros((2, 3), dtype=int)\n",
    "zeros_array"
   ]
  },
  {
   "cell_type": "code",
   "execution_count": 19,
   "id": "8c88993d",
   "metadata": {},
   "outputs": [
    {
     "data": {
      "text/plain": [
       "(numpy.ndarray, numpy.ndarray)"
      ]
     },
     "execution_count": 19,
     "metadata": {},
     "output_type": "execute_result"
    }
   ],
   "source": [
    "type(ones_array), type(zeros_array)"
   ]
  },
  {
   "cell_type": "code",
   "execution_count": 20,
   "id": "733f1fff",
   "metadata": {},
   "outputs": [
    {
     "data": {
      "text/plain": [
       "(dtype('int32'), dtype('int32'))"
      ]
     },
     "execution_count": 20,
     "metadata": {},
     "output_type": "execute_result"
    }
   ],
   "source": [
    "ones_array.dtype, zeros_array.dtype"
   ]
  },
  {
   "cell_type": "markdown",
   "id": "0b6dd613",
   "metadata": {},
   "source": [
    "### .arange(start, stop, step, dtype)"
   ]
  },
  {
   "cell_type": "code",
   "execution_count": 21,
   "id": "5d7e769a",
   "metadata": {},
   "outputs": [
    {
     "data": {
      "text/plain": [
       "array([0, 2, 4, 6, 8])"
      ]
     },
     "execution_count": 21,
     "metadata": {},
     "output_type": "execute_result"
    }
   ],
   "source": [
    "range_array = np.arange(0, 10, 2)\n",
    "range_array"
   ]
  },
  {
   "cell_type": "markdown",
   "id": "ee7cc15d",
   "metadata": {},
   "source": [
    "The default data type of .arange() is integer. we can change that as below:"
   ]
  },
  {
   "cell_type": "code",
   "execution_count": 22,
   "id": "b8b0594a",
   "metadata": {},
   "outputs": [
    {
     "data": {
      "text/plain": [
       "array([0., 2., 4., 6., 8.])"
      ]
     },
     "execution_count": 22,
     "metadata": {},
     "output_type": "execute_result"
    }
   ],
   "source": [
    "range_array = np.arange(0, 10, 2, dtype=float)\n",
    "range_array"
   ]
  },
  {
   "cell_type": "markdown",
   "id": "292bf943",
   "metadata": {},
   "source": [
    "## Creating random arrays"
   ]
  },
  {
   "cell_type": "markdown",
   "id": "63fc25ac",
   "metadata": {},
   "source": [
    "### .randint()"
   ]
  },
  {
   "cell_type": "code",
   "execution_count": 42,
   "id": "a63268f0",
   "metadata": {},
   "outputs": [
    {
     "data": {
      "text/plain": [
       "array([[8, 1, 5, 8, 8],\n",
       "       [9, 0, 0, 7, 8],\n",
       "       [4, 3, 3, 8, 5]])"
      ]
     },
     "execution_count": 42,
     "metadata": {},
     "output_type": "execute_result"
    }
   ],
   "source": [
    "random_array = np.random.randint(0, 10, (3, 5))\n",
    "random_array"
   ]
  },
  {
   "cell_type": "code",
   "execution_count": 43,
   "id": "2371fd33",
   "metadata": {},
   "outputs": [
    {
     "data": {
      "text/plain": [
       "(3, 5)"
      ]
     },
     "execution_count": 43,
     "metadata": {},
     "output_type": "execute_result"
    }
   ],
   "source": [
    "random_array.shape"
   ]
  },
  {
   "cell_type": "code",
   "execution_count": 45,
   "id": "e088fb21",
   "metadata": {},
   "outputs": [
    {
     "data": {
      "text/plain": [
       "15"
      ]
     },
     "execution_count": 45,
     "metadata": {},
     "output_type": "execute_result"
    }
   ],
   "source": [
    "random_array.size"
   ]
  },
  {
   "cell_type": "markdown",
   "id": "d48ff44a",
   "metadata": {},
   "source": [
    "### .random()"
   ]
  },
  {
   "cell_type": "code",
   "execution_count": 47,
   "id": "691bc829",
   "metadata": {},
   "outputs": [
    {
     "data": {
      "text/plain": [
       "array([[0.47818208, 0.79749899, 0.52060148],\n",
       "       [0.93703364, 0.13911857, 0.66748691],\n",
       "       [0.0258439 , 0.57670407, 0.33160906],\n",
       "       [0.49217484, 0.26471504, 0.43206795],\n",
       "       [0.16014898, 0.16501726, 0.61099803]])"
      ]
     },
     "execution_count": 47,
     "metadata": {},
     "output_type": "execute_result"
    }
   ],
   "source": [
    "random_array2 = np.random.random((5, 3))\n",
    "random_array2"
   ]
  },
  {
   "cell_type": "markdown",
   "id": "49939ae1",
   "metadata": {},
   "source": [
    "### .rand()"
   ]
  },
  {
   "cell_type": "code",
   "execution_count": 49,
   "id": "d9795e32",
   "metadata": {},
   "outputs": [
    {
     "data": {
      "text/plain": [
       "array([[0.80740005, 0.87421705, 0.65841176],\n",
       "       [0.63577563, 0.23300036, 0.53587304],\n",
       "       [0.20276464, 0.08788128, 0.4360015 ],\n",
       "       [0.80003239, 0.52528916, 0.06778006],\n",
       "       [0.79722751, 0.45008516, 0.99867054]])"
      ]
     },
     "execution_count": 49,
     "metadata": {},
     "output_type": "execute_result"
    }
   ],
   "source": [
    "random_array3 = np.random.rand(5, 3)\n",
    "random_array3"
   ]
  },
  {
   "cell_type": "markdown",
   "id": "17477704",
   "metadata": {},
   "source": [
    "## Pseudo-random numbers"
   ]
  },
  {
   "cell_type": "markdown",
   "id": "2e0eaa8e",
   "metadata": {},
   "source": [
    "if we run the code below, it's going to create different random arrays everytime:"
   ]
  },
  {
   "cell_type": "code",
   "execution_count": 32,
   "id": "01789b84",
   "metadata": {},
   "outputs": [
    {
     "data": {
      "text/plain": [
       "array([[2, 1, 8],\n",
       "       [7, 5, 4],\n",
       "       [4, 4, 5],\n",
       "       [8, 0, 1],\n",
       "       [4, 2, 9]])"
      ]
     },
     "execution_count": 32,
     "metadata": {},
     "output_type": "execute_result"
    }
   ],
   "source": [
    "random_array4 = np.random.randint(10, size=(5, 3))\n",
    "random_array4"
   ]
  },
  {
   "cell_type": "markdown",
   "id": "9fb48662",
   "metadata": {},
   "source": [
    "Sometimes we want to avoid this and create similar results after running the code for some other developer to get the same results as we do. To do so, we can use .seed() function."
   ]
  },
  {
   "cell_type": "code",
   "execution_count": 37,
   "id": "a34f4a7c",
   "metadata": {},
   "outputs": [
    {
     "data": {
      "text/plain": [
       "array([[5, 0, 3],\n",
       "       [3, 7, 9],\n",
       "       [3, 5, 2],\n",
       "       [4, 7, 6],\n",
       "       [8, 8, 1]])"
      ]
     },
     "execution_count": 37,
     "metadata": {},
     "output_type": "execute_result"
    }
   ],
   "source": [
    "np.random.seed(0)\n",
    "random_array5 = np.random.randint(10, size=(5, 3))\n",
    "random_array5"
   ]
  },
  {
   "cell_type": "code",
   "execution_count": 40,
   "id": "193db395",
   "metadata": {},
   "outputs": [
    {
     "data": {
      "text/plain": [
       "array([[5, 8, 9],\n",
       "       [5, 0, 0],\n",
       "       [1, 7, 6],\n",
       "       [9, 2, 4],\n",
       "       [5, 2, 4]])"
      ]
     },
     "execution_count": 40,
     "metadata": {},
     "output_type": "execute_result"
    }
   ],
   "source": [
    "np.random.seed(1)\n",
    "random_array6 = np.random.randint(10, size=(5, 3))\n",
    "random_array6"
   ]
  },
  {
   "cell_type": "code",
   "execution_count": 41,
   "id": "aaae87a0",
   "metadata": {},
   "outputs": [
    {
     "data": {
      "text/plain": [
       "array([[8, 8, 6],\n",
       "       [2, 8, 7],\n",
       "       [2, 1, 5],\n",
       "       [4, 4, 5],\n",
       "       [7, 3, 6]])"
      ]
     },
     "execution_count": 41,
     "metadata": {},
     "output_type": "execute_result"
    }
   ],
   "source": [
    "np.random.seed(2)\n",
    "random_array7 = np.random.randint(10, size=(5, 3))\n",
    "random_array7"
   ]
  },
  {
   "cell_type": "markdown",
   "id": "bb183e51",
   "metadata": {},
   "source": [
    "The numbers inside the .seed() function act like a variable and set the same results for random arrays if used before creating them in a cell:"
   ]
  },
  {
   "cell_type": "code",
   "execution_count": 49,
   "id": "cb77d52b",
   "metadata": {},
   "outputs": [
    {
     "data": {
      "text/plain": [
       "array([[8, 8, 6],\n",
       "       [2, 8, 7],\n",
       "       [2, 1, 5],\n",
       "       [4, 4, 5],\n",
       "       [7, 3, 6]])"
      ]
     },
     "execution_count": 49,
     "metadata": {},
     "output_type": "execute_result"
    }
   ],
   "source": [
    "np.random.seed(2)\n",
    "random_array8 = np.random.randint(10, size=(5, 3))\n",
    "random_array8"
   ]
  },
  {
   "cell_type": "markdown",
   "id": "a9f702c4",
   "metadata": {},
   "source": [
    "They also work with other random functions too:"
   ]
  },
  {
   "cell_type": "code",
   "execution_count": 50,
   "id": "45ab676f",
   "metadata": {},
   "outputs": [
    {
     "data": {
      "text/plain": [
       "array([[0.5507979 , 0.70814782, 0.29090474],\n",
       "       [0.51082761, 0.89294695, 0.89629309],\n",
       "       [0.12558531, 0.20724288, 0.0514672 ],\n",
       "       [0.44080984, 0.02987621, 0.45683322],\n",
       "       [0.64914405, 0.27848728, 0.6762549 ]])"
      ]
     },
     "execution_count": 50,
     "metadata": {},
     "output_type": "execute_result"
    }
   ],
   "source": [
    "np.random.seed(3)\n",
    "random_array9 = np.random.random(size=(5, 3))\n",
    "random_array9"
   ]
  },
  {
   "cell_type": "code",
   "execution_count": 51,
   "id": "f7ca3543",
   "metadata": {},
   "outputs": [
    {
     "data": {
      "text/plain": [
       "array([[0.5507979 , 0.70814782, 0.29090474],\n",
       "       [0.51082761, 0.89294695, 0.89629309],\n",
       "       [0.12558531, 0.20724288, 0.0514672 ],\n",
       "       [0.44080984, 0.02987621, 0.45683322],\n",
       "       [0.64914405, 0.27848728, 0.6762549 ]])"
      ]
     },
     "execution_count": 51,
     "metadata": {},
     "output_type": "execute_result"
    }
   ],
   "source": [
    "np.random.seed(3)\n",
    "random_array10 = np.random.random(size=(5, 3))\n",
    "random_array10"
   ]
  },
  {
   "cell_type": "markdown",
   "id": "3db9cabd",
   "metadata": {},
   "source": [
    "### Getting the unique items of an array"
   ]
  },
  {
   "cell_type": "code",
   "execution_count": 52,
   "id": "2386d21b",
   "metadata": {},
   "outputs": [
    {
     "data": {
      "text/plain": [
       "array([[2, 1, 8],\n",
       "       [7, 5, 4],\n",
       "       [4, 4, 5],\n",
       "       [8, 0, 1],\n",
       "       [4, 2, 9]])"
      ]
     },
     "execution_count": 52,
     "metadata": {},
     "output_type": "execute_result"
    }
   ],
   "source": [
    "random_array4"
   ]
  },
  {
   "cell_type": "code",
   "execution_count": 53,
   "id": "a905e780",
   "metadata": {},
   "outputs": [
    {
     "data": {
      "text/plain": [
       "array([0, 1, 2, 4, 5, 7, 8, 9])"
      ]
     },
     "execution_count": 53,
     "metadata": {},
     "output_type": "execute_result"
    }
   ],
   "source": [
    "np.unique(random_array4)"
   ]
  },
  {
   "cell_type": "markdown",
   "id": "30ce4efb",
   "metadata": {},
   "source": [
    "## Viewing arrays and matrices"
   ]
  },
  {
   "cell_type": "code",
   "execution_count": 55,
   "id": "17092259",
   "metadata": {},
   "outputs": [
    {
     "data": {
      "text/plain": [
       "array([1, 2, 3])"
      ]
     },
     "execution_count": 55,
     "metadata": {},
     "output_type": "execute_result"
    }
   ],
   "source": [
    "a1"
   ]
  },
  {
   "cell_type": "code",
   "execution_count": 56,
   "id": "4f5e445b",
   "metadata": {},
   "outputs": [
    {
     "data": {
      "text/plain": [
       "array([[1. , 2. , 3.3],\n",
       "       [4. , 5. , 6.5]])"
      ]
     },
     "execution_count": 56,
     "metadata": {},
     "output_type": "execute_result"
    }
   ],
   "source": [
    "a2"
   ]
  },
  {
   "cell_type": "code",
   "execution_count": 57,
   "id": "7389393f",
   "metadata": {},
   "outputs": [
    {
     "data": {
      "text/plain": [
       "array([[[ 1,  2,  3],\n",
       "        [ 4,  5,  6],\n",
       "        [ 7,  8,  9]],\n",
       "\n",
       "       [[10, 11, 12],\n",
       "        [13, 14, 15],\n",
       "        [16, 17, 18]]])"
      ]
     },
     "execution_count": 57,
     "metadata": {},
     "output_type": "execute_result"
    }
   ],
   "source": [
    "a3"
   ]
  },
  {
   "cell_type": "code",
   "execution_count": 58,
   "id": "0112ba6f",
   "metadata": {},
   "outputs": [
    {
     "data": {
      "text/plain": [
       "1"
      ]
     },
     "execution_count": 58,
     "metadata": {},
     "output_type": "execute_result"
    }
   ],
   "source": [
    "a1[0]"
   ]
  },
  {
   "cell_type": "code",
   "execution_count": 59,
   "id": "e66ff866",
   "metadata": {},
   "outputs": [
    {
     "data": {
      "text/plain": [
       "array([1. , 2. , 3.3])"
      ]
     },
     "execution_count": 59,
     "metadata": {},
     "output_type": "execute_result"
    }
   ],
   "source": [
    "a2[0]"
   ]
  },
  {
   "cell_type": "code",
   "execution_count": 60,
   "id": "b86627a1",
   "metadata": {},
   "outputs": [
    {
     "data": {
      "text/plain": [
       "array([[1, 2, 3],\n",
       "       [4, 5, 6],\n",
       "       [7, 8, 9]])"
      ]
     },
     "execution_count": 60,
     "metadata": {},
     "output_type": "execute_result"
    }
   ],
   "source": [
    "a3[0]"
   ]
  },
  {
   "cell_type": "markdown",
   "id": "d9a25d5e",
   "metadata": {},
   "source": [
    "Showing the first two items of each dimention:"
   ]
  },
  {
   "cell_type": "code",
   "execution_count": 61,
   "id": "5e8901a5",
   "metadata": {},
   "outputs": [
    {
     "data": {
      "text/plain": [
       "array([[[ 1,  2],\n",
       "        [ 4,  5]],\n",
       "\n",
       "       [[10, 11],\n",
       "        [13, 14]]])"
      ]
     },
     "execution_count": 61,
     "metadata": {},
     "output_type": "execute_result"
    }
   ],
   "source": [
    "a3[:2, :2, :2]"
   ]
  },
  {
   "cell_type": "markdown",
   "id": "4f1bbf04",
   "metadata": {},
   "source": [
    "Creating a 4 dimentional array:"
   ]
  },
  {
   "cell_type": "code",
   "execution_count": 62,
   "id": "8e17d5c5",
   "metadata": {},
   "outputs": [
    {
     "data": {
      "text/plain": [
       "array([[[[2, 1, 3, 5, 8],\n",
       "         [1, 8, 7, 8, 1],\n",
       "         [0, 5, 4, 1, 5],\n",
       "         [4, 7, 6, 0, 0]],\n",
       "\n",
       "        [[9, 2, 4, 5, 8],\n",
       "         [8, 7, 5, 1, 1],\n",
       "         [1, 5, 5, 7, 4],\n",
       "         [3, 0, 0, 0, 0]],\n",
       "\n",
       "        [[2, 2, 7, 0, 5],\n",
       "         [0, 1, 4, 1, 2],\n",
       "         [2, 4, 8, 0, 6],\n",
       "         [0, 4, 1, 5, 1]]],\n",
       "\n",
       "\n",
       "       [[[8, 8, 7, 0, 0],\n",
       "         [9, 1, 7, 8, 7],\n",
       "         [4, 0, 0, 4, 3],\n",
       "         [0, 8, 2, 7, 2]],\n",
       "\n",
       "        [[1, 3, 2, 4, 1],\n",
       "         [2, 2, 7, 3, 4],\n",
       "         [1, 6, 7, 9, 1],\n",
       "         [0, 0, 5, 8, 4]],\n",
       "\n",
       "        [[8, 8, 3, 4, 9],\n",
       "         [2, 5, 4, 7, 9],\n",
       "         [1, 9, 0, 7, 4],\n",
       "         [8, 8, 4, 1, 4]]]])"
      ]
     },
     "execution_count": 62,
     "metadata": {},
     "output_type": "execute_result"
    }
   ],
   "source": [
    "a4 = np.random.randint(10, size=(2, 3, 4, 5))\n",
    "a4"
   ]
  },
  {
   "cell_type": "code",
   "execution_count": 63,
   "id": "4916f690",
   "metadata": {},
   "outputs": [
    {
     "data": {
      "text/plain": [
       "(2, 3, 4, 5)"
      ]
     },
     "execution_count": 63,
     "metadata": {},
     "output_type": "execute_result"
    }
   ],
   "source": [
    "a4.shape"
   ]
  },
  {
   "cell_type": "code",
   "execution_count": 64,
   "id": "fff21f30",
   "metadata": {},
   "outputs": [
    {
     "data": {
      "text/plain": [
       "4"
      ]
     },
     "execution_count": 64,
     "metadata": {},
     "output_type": "execute_result"
    }
   ],
   "source": [
    "a4.ndim"
   ]
  },
  {
   "cell_type": "markdown",
   "id": "3c920519",
   "metadata": {},
   "source": [
    "Getting the first 4 numbers of the inner most arrays:"
   ]
  },
  {
   "cell_type": "code",
   "execution_count": 65,
   "id": "31ee4115",
   "metadata": {},
   "outputs": [
    {
     "data": {
      "text/plain": [
       "array([[[[2, 1, 3, 5],\n",
       "         [1, 8, 7, 8],\n",
       "         [0, 5, 4, 1],\n",
       "         [4, 7, 6, 0]],\n",
       "\n",
       "        [[9, 2, 4, 5],\n",
       "         [8, 7, 5, 1],\n",
       "         [1, 5, 5, 7],\n",
       "         [3, 0, 0, 0]],\n",
       "\n",
       "        [[2, 2, 7, 0],\n",
       "         [0, 1, 4, 1],\n",
       "         [2, 4, 8, 0],\n",
       "         [0, 4, 1, 5]]],\n",
       "\n",
       "\n",
       "       [[[8, 8, 7, 0],\n",
       "         [9, 1, 7, 8],\n",
       "         [4, 0, 0, 4],\n",
       "         [0, 8, 2, 7]],\n",
       "\n",
       "        [[1, 3, 2, 4],\n",
       "         [2, 2, 7, 3],\n",
       "         [1, 6, 7, 9],\n",
       "         [0, 0, 5, 8]],\n",
       "\n",
       "        [[8, 8, 3, 4],\n",
       "         [2, 5, 4, 7],\n",
       "         [1, 9, 0, 7],\n",
       "         [8, 8, 4, 1]]]])"
      ]
     },
     "execution_count": 65,
     "metadata": {},
     "output_type": "execute_result"
    }
   ],
   "source": [
    "a4[:, :, :, :4]"
   ]
  },
  {
   "cell_type": "code",
   "execution_count": null,
   "id": "2ad79393",
   "metadata": {},
   "outputs": [],
   "source": []
  }
 ],
 "metadata": {
  "kernelspec": {
   "display_name": "Python 3 (ipykernel)",
   "language": "python",
   "name": "python3"
  },
  "language_info": {
   "codemirror_mode": {
    "name": "ipython",
    "version": 3
   },
   "file_extension": ".py",
   "mimetype": "text/x-python",
   "name": "python",
   "nbconvert_exporter": "python",
   "pygments_lexer": "ipython3",
   "version": "3.11.5"
  }
 },
 "nbformat": 4,
 "nbformat_minor": 5
}
